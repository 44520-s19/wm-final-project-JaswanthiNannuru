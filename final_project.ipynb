{
 "cells": [
  {
   "cell_type": "markdown",
   "metadata": {},
   "source": [
    "# Name: Jaswanthi Nannuru\n",
    "## 250 Top rated movies acccording to IMDb\n",
    "\n",
    "## Question:\n",
    "### Analyzing the top rating movies and determining the increase in movies from 20th century according to IMDb\n"
   ]
  },
  {
   "cell_type": "markdown",
   "metadata": {},
   "source": [
    "### All the top rated movies are retrieved by web scraping an IMDb website"
   ]
  },
  {
   "cell_type": "code",
   "execution_count": 26,
   "metadata": {},
   "outputs": [
    {
     "name": "stdout",
     "output_type": "stream",
     "text": [
      "the count of movies for every 20 years\n",
      "1--20 years-- 17\n",
      "\n",
      "2--20 years-- 31\n",
      "\n",
      "3--20 years-- 33\n",
      "\n",
      "4--20 years-- 69\n",
      "\n",
      "5--20 years-- 91\n",
      "\n"
     ]
    }
   ],
   "source": [
    "from bs4 import BeautifulSoup\n",
    "import requests\n",
    "import pandas as pd\n",
    "import re\n",
    "\n",
    "# Download IMDB's Top 250 data\n",
    "url = 'http://www.imdb.com/chart/top'\n",
    "response = requests.get(url)\n",
    "soup = BeautifulSoup(response.text, 'lxml')\n",
    "\n",
    "#form to store all the films data\n",
    "films = soup.select('td.titleColumn')\n",
    "film_links = [a.attrs.get('href') for a in soup.select('td.titleColumn a')]\n",
    "film_crew = [a.attrs.get('title') for a in soup.select('td.titleColumn a')]\n",
    "film_ratings = [b.attrs.get('data-value') for b in soup.select('td.posterColumn span[name=ir]')]\n",
    "film_votes = [b.attrs.get('data-value') for b in soup.select('td.ratingColumn strong')]\n",
    "\n",
    "imdb = []\n",
    "\n",
    "# Store each item into dictionary (data), then put those into a list (imdb)\n",
    "for index in range(0, len(films)):\n",
    "    \n",
    "# Seperate movie into: 'place', 'title', 'year'\n",
    "    movie_string = films[index].get_text()\n",
    "    movie = (' '.join(movie_string.split()).replace('.', ''))\n",
    "    movie_title = movie[len(str(index))+1:-7]\n",
    "    released_year = re.search('\\((.*?)\\)', movie_string).group(1)\n",
    "    rated_position = movie[:len(str(index))-(len(movie))]\n",
    "    \n",
    "#all the data of each particular movie\n",
    "    movie_data = {\"movie_title\": movie_title,\n",
    "            \"year\": released_year,\n",
    "            \"position\": rated_position,\n",
    "            \"star_cast\": film_crew[index],\n",
    "            \"rating\": film_ratings[index]}\n",
    "           # \"vote\": film_votes[index],\n",
    "           # \"link\": film_links[index]}\n",
    "            \n",
    "#getting all the data at a place\n",
    "    imdb.append(movie_data)\n",
    "    \n",
    "    \n",
    "list1=[]\n",
    "for item in imdb:\n",
    "   # list1.append(item['movie_title'])\n",
    "\n",
    "# printing all the details of all top rated movies\n",
    "    #print(item['position'], '-', item['movie_title'], '('+item['year']+') -', 'Starring:', item['star_cast'])\n",
    "    list1.append(item['year'])\n",
    "    \n",
    "#sorting all the list of movies from\n",
    "list2=[]\n",
    "list2= sorted(list1)\n",
    "#print(list2)\n",
    "#year1=1921\n",
    "yearCount =0\n",
    "movieCount =0\n",
    "# counting te number of movies for every 20 years\n",
    "print(\"the count of movies for every 20 years\")\n",
    "j =1\n",
    "for i in range(len(list2)):\n",
    "    \n",
    "    if(i != (len(list2))-1):\n",
    "        if(yearCount <  20):\n",
    "            yearCount = (int(list2[i+1])- int(list2[i])) +yearCount\n",
    "            movieCount = movieCount+1\n",
    "        else:\n",
    "\n",
    "            if(j<=5):\n",
    "                \n",
    "                print(j,end ='--')\n",
    "                print(yearCount,'years--', movieCount)\n",
    "                print()\n",
    "                i=i+1 \n",
    "                yearCount =1\n",
    "                movieCount =1\n",
    "                j=j+1\n",
    "    else:\n",
    "        movieCount = movieCount+1\n",
    "        #print(yearCount, movieCount)\n",
    "        "
   ]
  },
  {
   "cell_type": "markdown",
   "metadata": {},
   "source": [
    "### Pickling the data"
   ]
  },
  {
   "cell_type": "code",
   "execution_count": 14,
   "metadata": {},
   "outputs": [],
   "source": [
    "\n",
    "html = requests.get(url)\n",
    "results = html.text \n",
    " \n",
    "\n",
    "import pickle\n",
    "# pickling data\n",
    "with open('data.pkl', 'wb') as f:\n",
    "    pickle.dump(results, f)\n",
    "\n",
    "# loading data from a pickle file\n",
    "with open('data.pkl', 'rb') as f:\n",
    "    new_results = pickle.load(f)\n",
    "    #print(type(new_results)) \n",
    "soup = BeautifulSoup(new_results)\n",
    "# printing the results in soup\n",
    "#print(soup) "
   ]
  },
  {
   "cell_type": "markdown",
   "metadata": {},
   "source": [
    "### Sorting all the retrieved data"
   ]
  },
  {
   "cell_type": "code",
   "execution_count": 27,
   "metadata": {},
   "outputs": [],
   "source": [
    "list2=[]\n",
    "list2= sorted(list1)\n",
    "\n",
    "list3 = [[l, list2.count(l)] for l in set(list2)]\n",
    "#list3.sort(reverse = True)\n",
    "list3.sort()\n",
    "\n",
    "#printing the sorted list of count of all top rated movies from 1921 to 2019\n",
    "#print(list3)\n"
   ]
  },
  {
   "cell_type": "markdown",
   "metadata": {},
   "source": [
    "### Importing all the  analysed data into pandas"
   ]
  },
  {
   "cell_type": "code",
   "execution_count": 16,
   "metadata": {},
   "outputs": [
    {
     "data": {
      "text/html": [
       "<div>\n",
       "<style scoped>\n",
       "    .dataframe tbody tr th:only-of-type {\n",
       "        vertical-align: middle;\n",
       "    }\n",
       "\n",
       "    .dataframe tbody tr th {\n",
       "        vertical-align: top;\n",
       "    }\n",
       "\n",
       "    .dataframe thead th {\n",
       "        text-align: right;\n",
       "    }\n",
       "</style>\n",
       "<table border=\"1\" class=\"dataframe\">\n",
       "  <thead>\n",
       "    <tr style=\"text-align: right;\">\n",
       "      <th></th>\n",
       "      <th>years</th>\n",
       "      <th>count</th>\n",
       "    </tr>\n",
       "  </thead>\n",
       "  <tbody>\n",
       "    <tr>\n",
       "      <th>0</th>\n",
       "      <td>1921 - 1940</td>\n",
       "      <td>17</td>\n",
       "    </tr>\n",
       "    <tr>\n",
       "      <th>1</th>\n",
       "      <td>1941 - 1960</td>\n",
       "      <td>31</td>\n",
       "    </tr>\n",
       "    <tr>\n",
       "      <th>2</th>\n",
       "      <td>1961 - 1980</td>\n",
       "      <td>33</td>\n",
       "    </tr>\n",
       "    <tr>\n",
       "      <th>3</th>\n",
       "      <td>1981 - 2000</td>\n",
       "      <td>69</td>\n",
       "    </tr>\n",
       "    <tr>\n",
       "      <th>4</th>\n",
       "      <td>2001 - 2019</td>\n",
       "      <td>91</td>\n",
       "    </tr>\n",
       "  </tbody>\n",
       "</table>\n",
       "</div>"
      ],
      "text/plain": [
       "         years  count\n",
       "0  1921 - 1940     17\n",
       "1  1941 - 1960     31\n",
       "2  1961 - 1980     33\n",
       "3  1981 - 2000     69\n",
       "4  2001 - 2019     91"
      ]
     },
     "execution_count": 16,
     "metadata": {},
     "output_type": "execute_result"
    }
   ],
   "source": [
    "import pandas as pd\n",
    "from collections import OrderedDict\n",
    "from datetime import date\n",
    "\n",
    "\n",
    "my_dict = {'1921 - 1940': 17, '1941 - 1960': 31, '1961 - 1980': 33, '1981 - 2000': 69, '2001 - 2019': 91}\n",
    "#print(my_dict)\n",
    "\n",
    "'''\n",
    "from prettytable import PrettyTable\n",
    "\n",
    "table = PrettyTable()\n",
    "\n",
    "table.title = 'No. of movies in each era'\n",
    "table.field_names = ['years', 'count']\n",
    "table.add_row(['1921 - 1940', 17])\n",
    "table.add_row(['1941 - 1960', 31])\n",
    "table.add_row(['1961 - 1980', 33])\n",
    "table.add_row(['1981 - 2000', 69])\n",
    "table.add_row(['2001 - 2019', 91])\n",
    "\n",
    "print(table)\n",
    "\n",
    "'''\n",
    "mainList= []\n",
    "#my_dict={}\n",
    "for key in sorted(my_dict.keys()):\n",
    "    f=[]\n",
    "    d = key    \n",
    "    f.append(d)\n",
    "    p = my_dict[key]\n",
    "    f.append(p)\n",
    "    mainList.append(f)\n",
    "#print(mainList)\n",
    "\n",
    "import pandas as pd\n",
    "#Creating a dataframe object from listoftuples\n",
    "df = pd.DataFrame(mainList, columns = ['years', 'count'])\n",
    "#pd.title = 'No. of movies in each era'\n",
    "\n",
    "from IPython.display import display\n",
    "df   \n",
    "\n"
   ]
  },
  {
   "cell_type": "markdown",
   "metadata": {},
   "source": [
    "### Using matplotlib all the results are visualized in the line graph, showing how the top rated movies are increasing from past century"
   ]
  },
  {
   "cell_type": "code",
   "execution_count": 17,
   "metadata": {},
   "outputs": [
    {
     "data": {
      "image/png": "[encoded data removed]",
      "text/plain": [
       "<Figure size 432x288 with 1 Axes>"
      ]
     },
     "metadata": {
      "needs_background": "light"
     },
     "output_type": "display_data"
    }
   ],
   "source": [
    "import matplotlib.pyplot as plt\n",
    "import numpy as np\n",
    "import matplotlib.style as style\n",
    "%matplotlib inline\n",
    "from pylab import *\n",
    "\n",
    "x = [1921,1941,1961,1981,2019]\n",
    "y = [17,31,33,69,91]\n",
    "\n",
    "plt.plot(x, y, linewidth=7.0, )\n",
    "plt.xlabel('years')\n",
    "plt.ylabel('count')\n",
    "plt.title('Increase in number of movies with time')\n",
    "grid(True)\n",
    "plt.show()\n",
    "\n"
   ]
  },
  {
   "cell_type": "markdown",
   "metadata": {},
   "source": [
    "## Conclusion:\n",
    "### From my project done in python, I would like to conclude and show the increase of top rated movies in my line graph from 1921 to till date according to the data registered by the IMDb. After scraping all the data from the IMDb website, I found that the increase in top rated movies has changed to a greater extent. And it is observed that from 1960, there is an enormous change in increase of top rated movies."
   ]
  }
 ],
 "metadata": {
  "kernelspec": {
   "display_name": "Python 3",
   "language": "python",
   "name": "python3"
  },
  "language_info": {
   "codemirror_mode": {
    "name": "ipython",
    "version": 3
   },
   "file_extension": ".py",
   "mimetype": "text/x-python",
   "name": "python",
   "nbconvert_exporter": "python",
   "pygments_lexer": "ipython3",
   "version": "3.7.3"
  }
 },
 "nbformat": 4,
 "nbformat_minor": 2
}
